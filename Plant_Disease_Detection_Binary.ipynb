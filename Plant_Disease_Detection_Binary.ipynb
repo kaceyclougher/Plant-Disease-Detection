{
  "nbformat": 4,
  "nbformat_minor": 0,
  "metadata": {
    "colab": {
      "provenance": [],
      "machine_shape": "hm",
      "gpuType": "T4"
    },
    "kernelspec": {
      "name": "python3",
      "display_name": "Python 3"
    },
    "language_info": {
      "name": "python"
    },
    "accelerator": "GPU"
  },
  "cells": [
    {
      "cell_type": "code",
      "source": [],
      "metadata": {
        "id": "5D5RH9Tg4Nzl"
      },
      "execution_count": null,
      "outputs": []
    },
    {
      "cell_type": "markdown",
      "source": [
        "# Plant Disease Detection\n"
      ],
      "metadata": {
        "id": "Kj2SgtXQ4UIZ"
      }
    },
    {
      "cell_type": "markdown",
      "source": [
        "## Approach\n",
        "Convolutional Neural Network (CNN) methodologies were employed to create an AI approach for detecting diseases in plants through leaf images. The neural network model or architecture was formulated using the Keras API and implemented using Python in conjunction with TensorFlow."
      ],
      "metadata": {
        "id": "Mk-S9EYH4gMS"
      }
    },
    {
      "cell_type": "markdown",
      "source": [
        "### Imports"
      ],
      "metadata": {
        "id": "8ekN0Lnx4keG"
      }
    },
    {
      "cell_type": "code",
      "source": [
        "pip install visualkeras"
      ],
      "metadata": {
        "colab": {
          "base_uri": "https://localhost:8080/"
        },
        "id": "ypFcZHIjiej2",
        "outputId": "f6616500-d46e-4186-f485-814d85d78177"
      },
      "execution_count": 6,
      "outputs": [
        {
          "output_type": "stream",
          "name": "stdout",
          "text": [
            "Collecting visualkeras\n",
            "  Downloading visualkeras-0.0.2-py3-none-any.whl (12 kB)\n",
            "Requirement already satisfied: pillow>=6.2.0 in /usr/local/lib/python3.10/dist-packages (from visualkeras) (9.4.0)\n",
            "Requirement already satisfied: numpy>=1.18.1 in /usr/local/lib/python3.10/dist-packages (from visualkeras) (1.23.5)\n",
            "Collecting aggdraw>=1.3.11 (from visualkeras)\n",
            "  Downloading aggdraw-1.3.18-cp310-cp310-manylinux_2_17_x86_64.manylinux2014_x86_64.whl (993 kB)\n",
            "\u001b[2K     \u001b[90m━━━━━━━━━━━━━━━━━━━━━━━━━━━━━━━━━━━━━━━━\u001b[0m \u001b[32m993.7/993.7 kB\u001b[0m \u001b[31m21.8 MB/s\u001b[0m eta \u001b[36m0:00:00\u001b[0m\n",
            "\u001b[?25hInstalling collected packages: aggdraw, visualkeras\n",
            "Successfully installed aggdraw-1.3.18 visualkeras-0.0.2\n"
          ]
        }
      ]
    },
    {
      "cell_type": "code",
      "execution_count": 7,
      "metadata": {
        "id": "hj6hmfXwjoyV"
      },
      "outputs": [],
      "source": [
        "from keras.preprocessing.image import ImageDataGenerator, array_to_img, img_to_array, load_img\n",
        "import numpy as np\n",
        "import os\n",
        "import tensorflow as tf\n",
        "import pathlib\n",
        "from tensorflow.keras.models import Sequential\n",
        "from tensorflow.keras.layers import Conv2D, MaxPooling2D, Flatten, Dense, Dropout\n",
        "\n",
        "import keras\n",
        "from keras.utils import to_categorical\n",
        "from keras import regularizers\n",
        "\n",
        "\n",
        "from keras import datasets, models, layers, optimizers, regularizers, callbacks\n",
        "import pandas as pd\n",
        "import seaborn as sns\n",
        "import matplotlib.pyplot as plt\n",
        "from sklearn.metrics import accuracy_score, confusion_matrix\n",
        "from sklearn.metrics import confusion_matrix, classification_report, recall_score, ConfusionMatrixDisplay\n",
        "from keras.optimizers import SGD, Adam\n",
        "from keras.metrics import Recall, Precision\n",
        "\n",
        "from tensorflow.keras.preprocessing.image import ImageDataGenerator\n",
        "import visualkeras\n",
        "from tensorflow.keras.models import load_model\n",
        "\n",
        "\n",
        "%matplotlib inline\n",
        "%load_ext autoreload\n",
        "%autoreload 2"
      ]
    },
    {
      "cell_type": "code",
      "source": [
        "## USE ONLY IN GOOGLE COLAB\n",
        "\n",
        "#connect to drive\n",
        "from google.colab import drive\n",
        "drive.mount('/content/drive')"
      ],
      "metadata": {
        "colab": {
          "base_uri": "https://localhost:8080/"
        },
        "id": "O2TaNx4DjrVf",
        "outputId": "a517d31f-2847-45e0-be30-fa144bd87f38"
      },
      "execution_count": 8,
      "outputs": [
        {
          "output_type": "stream",
          "name": "stdout",
          "text": [
            "Mounted at /content/drive\n"
          ]
        }
      ]
    },
    {
      "cell_type": "code",
      "source": [
        "#data directories\n",
        "plants_dir = \"/content/drive/MyDrive/Plant_split/plant_split\"\n",
        "train_dir = \"/content/drive/MyDrive/Plant_split/plant_split/train\"\n",
        "test_dir = \"/content/drive/MyDrive/Plant_split/plant_split/test\"\n",
        "val_dir = \"/content/drive/MyDrive/Plant_split/plant_split/val\""
      ],
      "metadata": {
        "id": "ga-vCMFMjtHU"
      },
      "execution_count": 22,
      "outputs": []
    },
    {
      "cell_type": "code",
      "source": [
        "#define parameters\n",
        "epochs = 25\n",
        "steps = 100\n",
        "learning_rate = 1e-4\n",
        "batch_size = 32\n",
        "width = 256\n",
        "height = 256\n",
        "depth = 3"
      ],
      "metadata": {
        "id": "d34gs6XljtJL"
      },
      "execution_count": 10,
      "outputs": []
    },
    {
      "cell_type": "markdown",
      "source": [
        "## Image Generation\n",
        " The code below prepares generators for training, validation, and test datasets stored in specified directories. The training data generator applies rescaling, shear transformations, zoom transformations, and horizontal flips to augment the images, while the validation and test data generators only rescale the images. The generators are configured to work with categorical data, assuming there are multiple classes, and the batch size is set to 32 for each generator."
      ],
      "metadata": {
        "id": "UlqF9AzF46e5"
      }
    },
    {
      "cell_type": "code",
      "source": [
        "from tensorflow.keras.preprocessing.image import ImageDataGenerator\n",
        "\n",
        "# Create an ImageDataGenerator for training data with rescaling\n",
        "train_datagen = ImageDataGenerator(\n",
        "    rescale = 1.0/255,  #normalize\n",
        "    shear_range = 0.2,   # shear transformation\n",
        "    zoom_range = 0.2,    # zoom\n",
        "    horizontal_flip = True  # horizontal flip\n",
        ")\n",
        "\n",
        "# imagedatagenerator for val and test data\n",
        "val_test_datagen = ImageDataGenerator(rescale=1.0/255)\n",
        "\n",
        "# paths\n",
        "train_dir = \"/content/drive/MyDrive/Plant_split/plant_split/train\"\n",
        "test_dir = \"/content/drive/MyDrive/Plant_split/plant_split/test\"\n",
        "val_dir = \"/content/drive/MyDrive/Plant_split/plant_split/val\"\n",
        "\n",
        "# generators\n",
        "train_generator = train_datagen.flow_from_directory(\n",
        "    train_dir,\n",
        "    target_size = (height, width),\n",
        "    batch_size=  32,\n",
        "    class_mode = 'categorical',\n",
        "    shuffle = True\n",
        ")\n",
        "val_generator = val_test_datagen.flow_from_directory(\n",
        "   val_dir,\n",
        "    target_size = (height, width),\n",
        "    batch_size = 32,\n",
        "    class_mode = 'categorical',\n",
        "    shuffle = False\n",
        ")\n",
        "\n",
        "test_generator = val_test_datagen.flow_from_directory(\n",
        "    test_dir,\n",
        "    target_size = (height, width),\n",
        "    batch_size = 32,\n",
        "    class_mode = 'categorical',\n",
        "    shuffle = False\n",
        ")"
      ],
      "metadata": {
        "colab": {
          "base_uri": "https://localhost:8080/"
        },
        "id": "MXERR9nojtN1",
        "outputId": "a70c2305-908d-44b2-afc8-e9cc20926217"
      },
      "execution_count": 12,
      "outputs": [
        {
          "output_type": "stream",
          "name": "stdout",
          "text": [
            "Found 44358 images belonging to 2 classes.\n",
            "Found 8316 images belonging to 2 classes.\n",
            "Found 2772 images belonging to 2 classes.\n"
          ]
        }
      ]
    },
    {
      "cell_type": "code",
      "source": [
        "#checking labels\n",
        "\n",
        "train_generator.class_indices"
      ],
      "metadata": {
        "id": "KV7Lb8W5dska",
        "colab": {
          "base_uri": "https://localhost:8080/"
        },
        "outputId": "a9bc9f36-3585-4d26-b53b-092beaf35053"
      },
      "execution_count": 13,
      "outputs": [
        {
          "output_type": "execute_result",
          "data": {
            "text/plain": [
              "{'disease': 0, 'healthy': 1}"
            ]
          },
          "metadata": {},
          "execution_count": 13
        }
      ]
    },
    {
      "cell_type": "code",
      "source": [
        "#swap\n",
        "train_generator.class_indices = {'healthy': 0, 'disease': 1}\n",
        "test_generator.class_indices = {'healthy': 0, 'disease': 1}\n",
        "val_generator.class_indices = {'healthy': 0, 'disease': 1}"
      ],
      "metadata": {
        "id": "1Df8Q45bdsmJ"
      },
      "execution_count": 14,
      "outputs": []
    },
    {
      "cell_type": "code",
      "source": [
        "#check\n",
        "val_generator.class_indices"
      ],
      "metadata": {
        "id": "C4Q7RTYUdsoW",
        "colab": {
          "base_uri": "https://localhost:8080/"
        },
        "outputId": "5b800915-bc9a-45c6-bcf0-dc98e70efb8c"
      },
      "execution_count": 15,
      "outputs": [
        {
          "output_type": "execute_result",
          "data": {
            "text/plain": [
              "{'healthy': 0, 'disease': 1}"
            ]
          },
          "metadata": {},
          "execution_count": 15
        }
      ]
    },
    {
      "cell_type": "code",
      "source": [],
      "metadata": {
        "id": "NeIi6-YHds54"
      },
      "execution_count": null,
      "outputs": []
    },
    {
      "cell_type": "markdown",
      "source": [
        "## Build Model\n",
        "\n",
        "The model consists of multiple convolutional layers to extract hierarchical features from input images, followed by fully connected layers for classification. Dropout is incorporated for regularization, and the softmax activation in the output layer allows for multi-class classification.The model is configured with the Adam optimizer, using a learning rate of 1e-4. The chosen learning rate strikes a balance between convergence speed and stability. The categorical crossentropy loss functionis selected for multi-class classification tasks. The accuracy metric is chosen for evaluation, calculating the ratio of correctly classified samples to the total."
      ],
      "metadata": {
        "id": "6REsYszYryE-"
      }
    },
    {
      "cell_type": "code",
      "source": [
        "#model function\n",
        "def create_model():\n",
        "  model = keras.models.Sequential([\n",
        "      #conv layers\n",
        "      keras.layers.Conv2D(32, (3, 3), activation='relu', input_shape = (height, width, depth)),\n",
        "      keras.layers.MaxPooling2D((2, 2)),\n",
        "      keras.layers.Conv2D(64, (3, 3), activation='relu'),\n",
        "      keras.layers.MaxPooling2D((2, 2)),\n",
        "      keras.layers.Conv2D(128, (3, 3), activation='relu'),\n",
        "      keras.layers.MaxPooling2D((2, 2)),\n",
        "\n",
        "      #flatten\n",
        "      keras.layers.Flatten(),\n",
        "\n",
        "      #dropout for regularization\n",
        "      keras.layers.Dropout(0.5),\n",
        "\n",
        "      #dense layers\n",
        "      keras.layers.Dense(256, activation='relu'),\n",
        "      keras.layers.Dropout(0.5),\n",
        "      keras.layers.Dense(128, activation='relu'),\n",
        "      keras.layers.Dropout(0.5),\n",
        "\n",
        "      #output\n",
        "      keras.layers.Dense(2, activation='softmax'),\n",
        "  ])\n",
        "\n",
        "  model.compile(optimizer = keras.optimizers.Adam(learning_rate = 1e-4),\n",
        "                loss = keras.losses.categorical_crossentropy,\n",
        "                metrics = ['accuracy'])\n",
        "\n",
        "\n",
        "  return model\n"
      ],
      "metadata": {
        "id": "mYP9PCMorxpd"
      },
      "execution_count": 16,
      "outputs": []
    },
    {
      "cell_type": "code",
      "source": [
        "#let's check it out!\n",
        "model = create_model()\n",
        "model.summary()\n"
      ],
      "metadata": {
        "colab": {
          "base_uri": "https://localhost:8080/"
        },
        "id": "Fm9Xxkx-rxrx",
        "outputId": "d57ce17b-dfef-4f8e-de98-53892594a651"
      },
      "execution_count": 17,
      "outputs": [
        {
          "output_type": "stream",
          "name": "stdout",
          "text": [
            "Model: \"sequential\"\n",
            "_________________________________________________________________\n",
            " Layer (type)                Output Shape              Param #   \n",
            "=================================================================\n",
            " conv2d (Conv2D)             (None, 254, 254, 32)      896       \n",
            "                                                                 \n",
            " max_pooling2d (MaxPooling2  (None, 127, 127, 32)      0         \n",
            " D)                                                              \n",
            "                                                                 \n",
            " conv2d_1 (Conv2D)           (None, 125, 125, 64)      18496     \n",
            "                                                                 \n",
            " max_pooling2d_1 (MaxPoolin  (None, 62, 62, 64)        0         \n",
            " g2D)                                                            \n",
            "                                                                 \n",
            " conv2d_2 (Conv2D)           (None, 60, 60, 128)       73856     \n",
            "                                                                 \n",
            " max_pooling2d_2 (MaxPoolin  (None, 30, 30, 128)       0         \n",
            " g2D)                                                            \n",
            "                                                                 \n",
            " flatten (Flatten)           (None, 115200)            0         \n",
            "                                                                 \n",
            " dropout (Dropout)           (None, 115200)            0         \n",
            "                                                                 \n",
            " dense (Dense)               (None, 256)               29491456  \n",
            "                                                                 \n",
            " dropout_1 (Dropout)         (None, 256)               0         \n",
            "                                                                 \n",
            " dense_1 (Dense)             (None, 128)               32896     \n",
            "                                                                 \n",
            " dropout_2 (Dropout)         (None, 128)               0         \n",
            "                                                                 \n",
            " dense_2 (Dense)             (None, 2)                 258       \n",
            "                                                                 \n",
            "=================================================================\n",
            "Total params: 29617858 (112.98 MB)\n",
            "Trainable params: 29617858 (112.98 MB)\n",
            "Non-trainable params: 0 (0.00 Byte)\n",
            "_________________________________________________________________\n"
          ]
        }
      ]
    },
    {
      "cell_type": "markdown",
      "source": [
        "## Fit Model"
      ],
      "metadata": {
        "id": "yT4PJEuOxPDZ"
      }
    },
    {
      "cell_type": "code",
      "source": [
        "#fit\n",
        "history = model.fit(train_generator, validation_data = val_generator, epochs = 25)"
      ],
      "metadata": {
        "colab": {
          "base_uri": "https://localhost:8080/"
        },
        "id": "iedKGmlg99kV",
        "outputId": "fdccbc69-fb48-4ccb-b47b-b91ab7f2cdf5"
      },
      "execution_count": 28,
      "outputs": [
        {
          "output_type": "stream",
          "name": "stdout",
          "text": [
            "Epoch 1/25\n",
            "1387/1387 [==============================] - 20753s 15s/step - loss: 0.1768 - accuracy: 0.9327 - val_loss: 0.6444 - val_accuracy: 0.7122\n",
            "Epoch 2/25\n",
            "1387/1387 [==============================] - 639s 461ms/step - loss: 0.1160 - accuracy: 0.9587 - val_loss: 0.9287 - val_accuracy: 0.6556\n",
            "Epoch 3/25\n",
            "1387/1387 [==============================] - 629s 453ms/step - loss: 0.0807 - accuracy: 0.9713 - val_loss: 0.9183 - val_accuracy: 0.7140\n",
            "Epoch 4/25\n",
            "1387/1387 [==============================] - 632s 456ms/step - loss: 0.0614 - accuracy: 0.9783 - val_loss: 0.8697 - val_accuracy: 0.7459\n",
            "Epoch 5/25\n",
            "1387/1387 [==============================] - 619s 446ms/step - loss: 0.0511 - accuracy: 0.9821 - val_loss: 0.6696 - val_accuracy: 0.7878\n",
            "Epoch 6/25\n",
            "1387/1387 [==============================] - 596s 430ms/step - loss: 0.0445 - accuracy: 0.9849 - val_loss: 0.6244 - val_accuracy: 0.8039\n",
            "Epoch 7/25\n",
            "1387/1387 [==============================] - 594s 428ms/step - loss: 0.0380 - accuracy: 0.9878 - val_loss: 0.7550 - val_accuracy: 0.7768\n",
            "Epoch 8/25\n",
            "1387/1387 [==============================] - 595s 429ms/step - loss: 0.0341 - accuracy: 0.9884 - val_loss: 0.5756 - val_accuracy: 0.8201\n",
            "Epoch 9/25\n",
            "1387/1387 [==============================] - 604s 436ms/step - loss: 0.0283 - accuracy: 0.9908 - val_loss: 0.7462 - val_accuracy: 0.8208\n",
            "Epoch 10/25\n",
            "1387/1387 [==============================] - 598s 431ms/step - loss: 0.0290 - accuracy: 0.9905 - val_loss: 0.8562 - val_accuracy: 0.8040\n",
            "Epoch 11/25\n",
            "1387/1387 [==============================] - 592s 427ms/step - loss: 0.0258 - accuracy: 0.9917 - val_loss: 0.9744 - val_accuracy: 0.8135\n",
            "Epoch 12/25\n",
            "1387/1387 [==============================] - 600s 432ms/step - loss: 0.0227 - accuracy: 0.9921 - val_loss: 0.8247 - val_accuracy: 0.8165\n",
            "Epoch 13/25\n",
            "1387/1387 [==============================] - 609s 439ms/step - loss: 0.0223 - accuracy: 0.9930 - val_loss: 0.8371 - val_accuracy: 0.8373\n",
            "Epoch 14/25\n",
            "1387/1387 [==============================] - 609s 439ms/step - loss: 0.0201 - accuracy: 0.9934 - val_loss: 0.8018 - val_accuracy: 0.8258\n",
            "Epoch 15/25\n",
            "1387/1387 [==============================] - 608s 439ms/step - loss: 0.0192 - accuracy: 0.9938 - val_loss: 0.8797 - val_accuracy: 0.8254\n",
            "Epoch 16/25\n",
            "1387/1387 [==============================] - 607s 438ms/step - loss: 0.0151 - accuracy: 0.9949 - val_loss: 0.9592 - val_accuracy: 0.8511\n",
            "Epoch 17/25\n",
            "1387/1387 [==============================] - 600s 432ms/step - loss: 0.0163 - accuracy: 0.9947 - val_loss: 0.8566 - val_accuracy: 0.8520\n",
            "Epoch 18/25\n",
            "1387/1387 [==============================] - 592s 427ms/step - loss: 0.0157 - accuracy: 0.9948 - val_loss: 0.8277 - val_accuracy: 0.8384\n",
            "Epoch 19/25\n",
            "1387/1387 [==============================] - 591s 426ms/step - loss: 0.0160 - accuracy: 0.9949 - val_loss: 0.7827 - val_accuracy: 0.8472\n",
            "Epoch 20/25\n",
            "1387/1387 [==============================] - 604s 435ms/step - loss: 0.0160 - accuracy: 0.9952 - val_loss: 1.0320 - val_accuracy: 0.8448\n",
            "Epoch 21/25\n",
            "1387/1387 [==============================] - 601s 433ms/step - loss: 0.0135 - accuracy: 0.9954 - val_loss: 1.0533 - val_accuracy: 0.8569\n",
            "Epoch 22/25\n",
            "1387/1387 [==============================] - 603s 435ms/step - loss: 0.0145 - accuracy: 0.9953 - val_loss: 0.6571 - val_accuracy: 0.8644\n",
            "Epoch 23/25\n",
            "1387/1387 [==============================] - 602s 434ms/step - loss: 0.0115 - accuracy: 0.9961 - val_loss: 0.7940 - val_accuracy: 0.8488\n",
            "Epoch 24/25\n",
            "1387/1387 [==============================] - 596s 429ms/step - loss: 0.0134 - accuracy: 0.9957 - val_loss: 0.8166 - val_accuracy: 0.8462\n",
            "Epoch 25/25\n",
            "1387/1387 [==============================] - 594s 428ms/step - loss: 0.0117 - accuracy: 0.9965 - val_loss: 0.7707 - val_accuracy: 0.8301\n"
          ]
        }
      ]
    },
    {
      "cell_type": "code",
      "source": [
        "#FANTASTIC!\n",
        "test_loss, test_acc = model.evaluate(test_generator)\n",
        "print(f\"Test Accuracy: {test_acc * 100}\")"
      ],
      "metadata": {
        "colab": {
          "base_uri": "https://localhost:8080/"
        },
        "id": "o3AvySz3w-8k",
        "outputId": "6abf68ed-b5af-48ea-9585-567320483ecd"
      },
      "execution_count": 29,
      "outputs": [
        {
          "output_type": "stream",
          "name": "stdout",
          "text": [
            "87/87 [==============================] - 1584s 18s/step - loss: 0.4017 - accuracy: 0.9026\n",
            "Test Accuracy: 90.2597427368164\n"
          ]
        }
      ]
    },
    {
      "cell_type": "code",
      "source": [],
      "metadata": {
        "id": "OjarOyeCvKsU"
      },
      "execution_count": null,
      "outputs": []
    },
    {
      "cell_type": "markdown",
      "source": [
        "## Checking out validation and loss plots"
      ],
      "metadata": {
        "id": "ssBJJYae307x"
      }
    },
    {
      "cell_type": "code",
      "source": [
        "# plot validation loss and accuracy\n",
        "\n",
        "history_dict = history.history\n",
        "loss = history_dict['loss']\n",
        "acc = history_dict['accuracy']\n",
        "val_loss = history_dict['val_loss']\n",
        "val_acc = history_dict['val_accuracy']\n",
        "epochs = range(1, len(history_dict['accuracy']) + 1)\n",
        "epochs_list = list(epochs)"
      ],
      "metadata": {
        "id": "4fcZk-fMvKua"
      },
      "execution_count": 19,
      "outputs": []
    },
    {
      "cell_type": "code",
      "source": [
        "#df\n",
        "model_loss = pd.DataFrame({\n",
        "    'Epochs': epochs_list * 2,  # Repeat epochs for both training and validation data\n",
        "    'Loss': loss + val_loss,\n",
        "    'Type': ['Training loss'] * len(epochs_list) + ['Validation loss'] * len(epochs_list)\n",
        "})\n",
        "\n",
        "# Plot data\n",
        "sns.set(style=\"white\")\n",
        "sns.set_palette(\"Set3\")\n",
        "\n",
        "plt.figure(figsize=(10, 6))\n",
        "model_loss_plot = sns.lineplot(x='Epochs', y='Loss', hue='Type', data=model_loss)\n",
        "\n",
        "plt.title('Training and Validation Loss')\n",
        "plt.xlabel('Epochs')\n",
        "plt.ylabel('Loss')\n",
        "plt.legend()\n",
        "plt.show()"
      ],
      "metadata": {
        "colab": {
          "base_uri": "https://localhost:8080/",
          "height": 573
        },
        "id": "-FAdcPRqrkLY",
        "outputId": "d9fba374-0941-4121-cffb-7a7857c6318d"
      },
      "execution_count": null,
      "outputs": [
        {
          "output_type": "display_data",
          "data": {
            "text/plain": [
              "<Figure size 1000x600 with 1 Axes>"
            ],
            "image/png": "[encoded data removed]"
          },
          "metadata": {}
        }
      ]
    },
    {
      "cell_type": "code",
      "source": [
        "#df\n",
        "model_acc = pd.DataFrame({\n",
        "    'Epochs': epochs_list * 2,  # Repeat epochs for both training and validation data\n",
        "    'Accuracy': acc + val_acc,\n",
        "    'Type': ['Training accuracy'] * len(epochs) + ['Validation accuracy'] * len(epochs)\n",
        "})\n",
        "\n",
        "# Use Seaborn to plot the data\n",
        "sns.set(style = \"white\")\n",
        "sns.set_palette(\"Set3\")\n",
        "\n",
        "plt.figure(figsize=(10, 6))\n",
        "acc_plot = sns.lineplot(x='Epochs', y='Accuracy', hue='Type', data=model_acc)\n",
        "\n",
        "plt.title('Training and Validation Accuracy')\n",
        "plt.xlabel('Epochs')\n",
        "plt.ylabel('Accuracy')\n",
        "plt.legend()\n",
        "plt.show()"
      ],
      "metadata": {
        "id": "3SKfvJQ6rkSn",
        "colab": {
          "base_uri": "https://localhost:8080/",
          "height": 573
        },
        "outputId": "01d977fe-bf11-44f9-f749-b83fca7c4958"
      },
      "execution_count": null,
      "outputs": [
        {
          "output_type": "display_data",
          "data": {
            "text/plain": [
              "<Figure size 1000x600 with 1 Axes>"
            ],
            "image/png": "[encoded data removed]"
          },
          "metadata": {}
        }
      ]
    },
    {
      "cell_type": "markdown",
      "source": [
        "## Save model"
      ],
      "metadata": {
        "id": "1wo6tsPk3hWu"
      }
    },
    {
      "cell_type": "code",
      "source": [
        "#save model\n",
        "model.save('plant_binaryI.h5')"
      ],
      "metadata": {
        "colab": {
          "base_uri": "https://localhost:8080/"
        },
        "id": "ek7eF5DPilso",
        "outputId": "46aa2609-3f89-4614-b2ac-78af166b7a0b"
      },
      "execution_count": 20,
      "outputs": [
        {
          "output_type": "stream",
          "name": "stderr",
          "text": [
            "/usr/local/lib/python3.10/dist-packages/keras/src/engine/training.py:3079: UserWarning: You are saving your model as an HDF5 file via `model.save()`. This file format is considered legacy. We recommend using instead the native Keras format, e.g. `model.save('my_model.keras')`.\n",
            "  saving_api.save_model(\n"
          ]
        }
      ]
    },
    {
      "cell_type": "code",
      "source": [
        "# load model for visual\n",
        "model = load_model('plant_binaryI.h5')\n",
        "\n",
        "# visualize the model architecture and save\n",
        "visualkeras.layered_view(model, to_file = '/content/drive/MyDrive/plant_binary_model.png').show()"
      ],
      "metadata": {
        "id": "i1JI_Y3_i-s2"
      },
      "execution_count": 21,
      "outputs": []
    },
    {
      "cell_type": "code",
      "source": [],
      "metadata": {
        "id": "hKlFF0D8U9gy"
      },
      "execution_count": null,
      "outputs": []
    },
    {
      "cell_type": "code",
      "source": [],
      "metadata": {
        "id": "K5KaFVirU9h6"
      },
      "execution_count": null,
      "outputs": []
    },
    {
      "cell_type": "markdown",
      "source": [],
      "metadata": {
        "id": "R41FUxD94G4x"
      }
    }
  ]
}